{
  "nbformat": 4,
  "nbformat_minor": 0,
  "metadata": {
    "colab": {
      "name": "corr-eye-pro.ipynb",
      "provenance": [],
      "collapsed_sections": [],
      "authorship_tag": "ABX9TyOlOu6O+wJWsaMm1H3ftFa4",
      "include_colab_link": true
    },
    "kernelspec": {
      "name": "python3",
      "display_name": "Python 3"
    },
    "language_info": {
      "name": "python"
    },
    "accelerator": "GPU"
  },
  "cells": [
    {
      "cell_type": "markdown",
      "metadata": {
        "id": "view-in-github",
        "colab_type": "text"
      },
      "source": [
        "<a href=\"https://colab.research.google.com/github/MajPaji/AI-corr-eye/blob/main/corr_eye_pro.ipynb\" target=\"_parent\"><img src=\"https://colab.research.google.com/assets/colab-badge.svg\" alt=\"Open In Colab\"/></a>"
      ]
    },
    {
      "cell_type": "markdown",
      "metadata": {
        "id": "4QQK24M5hfEn"
      },
      "source": [
        "# Project G19-0052 Computer vision on different corrosion mode recognition\n",
        "\n",
        "\n",
        "It is difficult even for trained engineer eyes to recognize between different types of failure, but it is crucial to recognize these modes of failure to develop new products or modify the production steps to avoid these types of corrosion for current products. It needs to do many additional laboratory experiments like metallography, chemical analysis, and SEM to understand and recognize between different types of failure. \n",
        "\n",
        "In the R&D department, we have a long history of these kinds of measurements and failure analysis. This project aims to use deep learning and computer vision using TensorFlow to recognize between these failures. This could make a great reference for classification between different corrosion modes. This would avoid a lot of time and resources to recognize and understand failures. Data collected from 2016 to 2020 in the case studies that have recognized these failures. \n",
        "\n",
        "## Project objectives\n",
        "\n",
        "There are two common failures in aluminum alloy pitting and IGC. The first aim is to recognize these modes of failure and later add more complicated types to recognize like Ti-effect, crevice, de-alloying, etc."
      ]
    },
    {
      "cell_type": "code",
      "metadata": {
        "colab": {
          "base_uri": "https://localhost:8080/"
        },
        "id": "2iMJhm_fhnCD",
        "outputId": "fd223a7b-eca7-4f23-f1f3-aea4701d6bc6"
      },
      "source": [
        "# importing the data set IGC and pitting (data_set_igc_pit.zip)\n",
        "# data set file in content>gdrive>MyDrive>data_set_igc_pit.zip\n",
        "from google.colab import drive\n",
        "drive.mount('/content/gdrive')"
      ],
      "execution_count": null,
      "outputs": [
        {
          "output_type": "stream",
          "text": [
            "Mounted at /content/gdrive\n"
          ],
          "name": "stdout"
        }
      ]
    },
    {
      "cell_type": "code",
      "metadata": {
        "id": "bW8P1bSQpVyg"
      },
      "source": [
        "# unzip the file to coolab tmp folder\n",
        "\n",
        "import os, shutil\n",
        "import zipfile\n",
        "\n",
        "zip_file_dir = '/content/gdrive/MyDrive/igc-pit.zip'\n",
        "zip_file = zipfile.ZipFile(zip_file_dir, 'r')\n",
        "zip_file.extractall('/tmp/igc-pit')\n",
        "zip_file.close()"
      ],
      "execution_count": 14,
      "outputs": []
    },
    {
      "cell_type": "markdown",
      "metadata": {
        "id": "y4DKOQlh8Tll"
      },
      "source": [
        "## Data set for IGC and Pit failure cases\n",
        "\n",
        "There were 368 images collected for IGC failure of the products and 737 for pitting failure of the products. In total there were 1105 images in this data set."
      ]
    },
    {
      "cell_type": "code",
      "metadata": {
        "colab": {
          "base_uri": "https://localhost:8080/"
        },
        "id": "0k8xENl_7V13",
        "outputId": "b05de91c-634f-442f-ae5f-40190f237dc6"
      },
      "source": [
        "igc_dir = os.path.join('/tmp/igc-pit/igc-pit/igc')\n",
        "pit_dir = os.path.join('/tmp/igc-pit/igc-pit/pit')\n",
        "\n",
        "print(f'number of IGC failure images: {len(os.listdir(igc_dir))}')\n",
        "print(f'number of Pit failure images: {len(os.listdir(pit_dir))}')"
      ],
      "execution_count": 5,
      "outputs": [
        {
          "output_type": "stream",
          "text": [
            "number of IGC failure images: 368\n",
            "number of Pit failure images: 737\n"
          ],
          "name": "stdout"
        }
      ]
    },
    {
      "cell_type": "code",
      "metadata": {
        "colab": {
          "base_uri": "https://localhost:8080/"
        },
        "id": "OKUb3QkCsCT-",
        "outputId": "cff751e2-618c-4a03-a945-bf9548dea4f9"
      },
      "source": [
        "# divid the train file to train test split\n",
        "# get 10% of the images for tesing and the rest for training\n",
        "\n",
        "import splitfolders\n",
        "\n",
        "splitfolders.ratio(\"/tmp/igc-pit/igc-pit\", output=\"/tmp/igc-pit/output\", seed=1337, ratio=(.8, .1, .1))"
      ],
      "execution_count": 13,
      "outputs": [
        {
          "output_type": "stream",
          "text": [
            "Copying files: 1105 files [00:00, 2032.29 files/s]\n"
          ],
          "name": "stderr"
        }
      ]
    },
    {
      "cell_type": "code",
      "metadata": {
        "id": "yD-a9435tGs8"
      },
      "source": [
        "# move test files to training folders\n",
        "\n",
        "igc_source_dir = os.path.join('/tmp/igc-pit/output/test/igc/')\n",
        "igc_target_dir = os.path.join('/tmp/igc-pit/output/train/igc/')\n",
        "\n",
        "file_names = os.listdir(igc_source_dir)\n",
        "\n",
        "for f in file_names:\n",
        "  shutil.move(os.path.join(igc_source_dir, f), igc_target_dir)\n",
        "\n",
        "\n",
        "pit_source_dir = os.path.join('/tmp/igc-pit/output/test/pit/')\n",
        "pit_target_dir = os.path.join('/tmp/igc-pit/output/train/pit/')\n",
        "\n",
        "file_names = os.listdir(pit_source_dir)\n",
        "\n",
        "for f in file_names:\n",
        "  shutil.move(os.path.join(pit_source_dir, f), pit_target_dir)"
      ],
      "execution_count": 17,
      "outputs": []
    },
    {
      "cell_type": "markdown",
      "metadata": {
        "id": "DbQpUmQVElRC"
      },
      "source": [
        "# Data set training and validation\n",
        "\n",
        "The data set is organized to have one set for training and the other for validation. 90% of the data will be used for training and 10% for validation.\n",
        "\n",
        "There are:\n",
        "\n",
        "* IGC cases for train is 332 and validation set number is 36\n",
        "* Pit cases for train is 664 and validation set number is 73"
      ]
    },
    {
      "cell_type": "code",
      "metadata": {
        "colab": {
          "base_uri": "https://localhost:8080/"
        },
        "id": "GtGoysK5CduW",
        "outputId": "188706c0-815e-4b01-95eb-4e2ef6a3bca2"
      },
      "source": [
        "igc_train_dir = os.path.join('/tmp/igc-pit/output/train/igc')\n",
        "pit_train_dir = os.path.join('/tmp/igc-pit/output/train/pit')\n",
        "\n",
        "igc_val_dir = os.path.join('/tmp/igc-pit/output/val/igc')\n",
        "pit_val_dir = os.path.join('/tmp/igc-pit/output/val/pit')\n",
        "\n",
        "print(f'number of IGC cases for train is {len(os.listdir(igc_train_dir))} and validation set number is {len(os.listdir(igc_val_dir))}')\n",
        "print(f'number of Pit cases for train is {len(os.listdir(pit_train_dir))} and validation set number is {len(os.listdir(pit_val_dir))}')"
      ],
      "execution_count": 23,
      "outputs": [
        {
          "output_type": "stream",
          "text": [
            "number of IGC cases for train is 332 and validation set number is 36\n",
            "number of Pit cases for train is 664 and validation set number is 73\n"
          ],
          "name": "stdout"
        }
      ]
    },
    {
      "cell_type": "code",
      "metadata": {
        "id": "RL_2lCbxDyOg"
      },
      "source": [
        ""
      ],
      "execution_count": null,
      "outputs": []
    }
  ]
}